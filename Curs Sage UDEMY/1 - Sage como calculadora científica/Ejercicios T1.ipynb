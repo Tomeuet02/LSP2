{
 "cells": [
  {
   "cell_type": "code",
   "execution_count": 7,
   "metadata": {},
   "outputs": [
    {
     "name": "stdout",
     "output_type": "stream",
     "text": [
      "Ejercicio 1\n",
      "7/8\n",
      "0.875\n"
     ]
    }
   ],
   "source": [
    "print(\"Ejercicio 1\")\n",
    "print(28/2^5)\n",
    "print((28/2^5).n(digits = 3))"
   ]
  },
  {
   "cell_type": "code",
   "execution_count": 15,
   "metadata": {},
   "outputs": [
    {
     "name": "stdout",
     "output_type": "stream",
     "text": [
      "Ejercicio 2\n",
      "1.41421356237310\n"
     ]
    }
   ],
   "source": [
    "print(\"Ejercicio 2\")\n",
    "print(sqrt(2.0))"
   ]
  },
  {
   "cell_type": "code",
   "execution_count": 18,
   "metadata": {},
   "outputs": [
    {
     "name": "stdout",
     "output_type": "stream",
     "text": [
      "Ejercicio 3\n",
      "3*I que es un número complejo\n"
     ]
    }
   ],
   "source": [
    "print(\"Ejercicio 3\")\n",
    "print(sqrt(-9), \", que és un nombre complez\")"
   ]
  },
  {
   "cell_type": "code",
   "execution_count": 23,
   "metadata": {},
   "outputs": [
    {
     "name": "stdout",
     "output_type": "stream",
     "text": [
      "Ejercicio 4\n",
      "51\n"
     ]
    }
   ],
   "source": [
    "print(\"Ejercicio 4\")\n",
    "print(log(2153693963075557766310747,3))"
   ]
  },
  {
   "cell_type": "code",
   "execution_count": 24,
   "metadata": {},
   "outputs": [
    {
     "name": "stdout",
     "output_type": "stream",
     "text": [
      "Ejercicio 5\n",
      "2.7182818284590452353602874713526624977572470937000\n"
     ]
    }
   ],
   "source": [
    "print(\"Ejercicio 5\")\n",
    "print(e.n(digits = 50))"
   ]
  },
  {
   "cell_type": "code",
   "execution_count": 29,
   "metadata": {},
   "outputs": [
    {
     "name": "stdout",
     "output_type": "stream",
     "text": [
      "Ejercicio 6\n",
      "3.1415926535897932384626433832795028841971693993751058209749445923078164062862090\n"
     ]
    }
   ],
   "source": [
    "print(\"Ejercicio 6\")\n",
    "print(pi.n(digits = 80))"
   ]
  },
  {
   "cell_type": "code",
   "execution_count": 32,
   "metadata": {},
   "outputs": [
    {
     "name": "stdout",
     "output_type": "stream",
     "text": [
      "Ejercicio 7\n",
      "En el següent parell (a, b), a és el quocient i b el reste de la divisió (9, 74)\n"
     ]
    }
   ],
   "source": [
    "print(\"Ejercicio 7\")\n",
    "print(\"En el següent parell (a, b), a és el quocient i b el reste de la divisió\", divmod(956, 98))"
   ]
  },
  {
   "cell_type": "code",
   "execution_count": 36,
   "metadata": {},
   "outputs": [
    {
     "name": "stdout",
     "output_type": "stream",
     "text": [
      "Ejercicio 8\n",
      "9 * 98 + 74 = 956\n"
     ]
    }
   ],
   "source": [
    "print(\"Ejercicio 8\")\n",
    "print(\"9 * 98 + 74 =\", 9 * 98 + 74)"
   ]
  },
  {
   "cell_type": "code",
   "execution_count": 41,
   "metadata": {},
   "outputs": [
    {
     "name": "stdout",
     "output_type": "stream",
     "text": [
      "Ejercicio 9\n",
      "False , llavors 2 no divideix a 234878\n"
     ]
    }
   ],
   "source": [
    "print(\"Ejercicio 9\")\n",
    "print(3.divides(234878), \", llavors 2 no divideix a 234878\")\n"
   ]
  },
  {
   "cell_type": "code",
   "execution_count": 43,
   "metadata": {},
   "outputs": [
    {
     "name": "stdout",
     "output_type": "stream",
     "text": [
      "Ejercicio 10\n",
      "Divisors de 134: [1, 2, 67, 134]\n",
      "Divisors de 491: [1, 491]\n",
      "Divisors de 422: [1, 2, 211, 422]\n",
      "Divisors de 1002: [1, 2, 3, 6, 167, 334, 501, 1002]\n"
     ]
    }
   ],
   "source": [
    "print(\"Ejercicio 10\")\n",
    "print(\"Divisors de 134:\", divisors(134))\n",
    "print(\"Divisors de 491:\", divisors(491))\n",
    "print(\"Divisors de 422:\", divisors(422))\n",
    "print(\"Divisors de 1002:\", divisors(1002))"
   ]
  },
  {
   "cell_type": "code",
   "execution_count": 47,
   "metadata": {},
   "outputs": [
    {
     "name": "stdout",
     "output_type": "stream",
     "text": [
      "Ejercicio 11\n",
      "is_prime(134) = False , llavors no\n",
      "is_prime(491) = True , llavors si\n",
      "is_prime(422) = False , llavors no\n",
      "is_prime(1002) = False , llavors no\n"
     ]
    }
   ],
   "source": [
    "print(\"Ejercicio 11\")\n",
    "print(\"is_prime(134) =\", is_prime(134), \", llavors no\")\n",
    "print(\"is_prime(491) =\", is_prime(491), \", llavors si\")\n",
    "print(\"is_prime(422) =\", is_prime(422), \", llavors no\")\n",
    "print(\"is_prime(1002) =\", is_prime(1002), \", llavors no\")"
   ]
  },
  {
   "cell_type": "code",
   "execution_count": 49,
   "metadata": {},
   "outputs": [
    {
     "name": "stdout",
     "output_type": "stream",
     "text": [
      "Ejercicio 12\n",
      "El màxim comú divisor de (2,5) és 1 i el mínim comú múltiple és 10\n",
      "El màxim comú divisor de (4,10) és 2 i el mínim comú múltiple és 20\n",
      "El màxim comú divisor de (18, 51) és 3 i el mínim comú múltiple és 306\n"
     ]
    }
   ],
   "source": [
    "print(\"Ejercicio 12\")\n",
    "print(\"El màxim comú divisor de (2,5) és\", gcd(2,5), \"i el mínim comú múltiple és\", lcm(2,5))\n",
    "print(\"El màxim comú divisor de (4,10) és\", gcd(4,10), \"i el mínim comú múltiple és\", lcm(4,10))\n",
    "print(\"El màxim comú divisor de (18, 51) és\", gcd(18, 51), \"i el mínim comú múltiple és\", lcm(18, 51))"
   ]
  }
 ],
 "metadata": {
  "kernelspec": {
   "display_name": "SageMath 9.0",
   "language": "sage",
   "name": "sagemath"
  },
  "language_info": {
   "codemirror_mode": {
    "name": "ipython",
    "version": 3
   },
   "file_extension": ".py",
   "mimetype": "text/x-python",
   "name": "python",
   "nbconvert_exporter": "python",
   "pygments_lexer": "ipython3",
   "version": "3.7.3"
  }
 },
 "nbformat": 4,
 "nbformat_minor": 2
}
