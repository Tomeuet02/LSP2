{
 "cells": [
  {
   "cell_type": "code",
   "execution_count": 1,
   "metadata": {},
   "outputs": [
    {
     "data": {
      "text/plain": [
       "54"
      ]
     },
     "execution_count": 1,
     "metadata": {},
     "output_type": "execute_result"
    }
   ],
   "source": [
    "42 + 12"
   ]
  },
  {
   "cell_type": "code",
   "execution_count": 2,
   "metadata": {},
   "outputs": [
    {
     "data": {
      "text/plain": [
       "223"
      ]
     },
     "execution_count": 2,
     "metadata": {},
     "output_type": "execute_result"
    }
   ],
   "source": [
    "490 - 267"
   ]
  },
  {
   "cell_type": "code",
   "execution_count": 3,
   "metadata": {},
   "outputs": [
    {
     "data": {
      "text/plain": [
       "2146"
      ]
     },
     "execution_count": 3,
     "metadata": {},
     "output_type": "execute_result"
    }
   ],
   "source": [
    "37 * 58"
   ]
  },
  {
   "cell_type": "code",
   "execution_count": 4,
   "metadata": {},
   "outputs": [
    {
     "data": {
      "text/plain": [
       "639/4"
      ]
     },
     "execution_count": 4,
     "metadata": {},
     "output_type": "execute_result"
    }
   ],
   "source": [
    "1917 / 12"
   ]
  },
  {
   "cell_type": "code",
   "execution_count": 23,
   "metadata": {},
   "outputs": [
    {
     "data": {
      "text/plain": [
       "169"
      ]
     },
     "execution_count": 23,
     "metadata": {},
     "output_type": "execute_result"
    }
   ],
   "source": [
    "13^2"
   ]
  },
  {
   "cell_type": "code",
   "execution_count": 24,
   "metadata": {},
   "outputs": [
    {
     "data": {
      "text/plain": [
       "57"
      ]
     },
     "execution_count": 24,
     "metadata": {},
     "output_type": "execute_result"
    }
   ],
   "source": [
    "(-18+7)^2+(2-6)^3"
   ]
  },
  {
   "cell_type": "code",
   "execution_count": 25,
   "metadata": {},
   "outputs": [
    {
     "data": {
      "text/plain": [
       "37/12"
      ]
     },
     "execution_count": 25,
     "metadata": {},
     "output_type": "execute_result"
    }
   ],
   "source": [
    "37/12"
   ]
  },
  {
   "cell_type": "code",
   "execution_count": 32,
   "metadata": {},
   "outputs": [
    {
     "data": {
      "text/plain": [
       "3.08333333333333"
      ]
     },
     "execution_count": 32,
     "metadata": {},
     "output_type": "execute_result"
    }
   ],
   "source": [
    "37.0/12"
   ]
  },
  {
   "cell_type": "code",
   "execution_count": 5,
   "metadata": {},
   "outputs": [
    {
     "name": "stdout",
     "output_type": "stream",
     "text": [
      "RESUM ARITMÈTICA BÀSICA\n",
      "Per sumar utilitzam , per restar el - i per multipilcar el *. \n",
      "Si volem fer una potència utilitzam o bé ^ o bé **.\n",
      "Per dividir se utilitza / i ens donarà el coeficient exacte. Si volem xifres decimals, podem afegir .0 al numerador o denominador, o bé multiplicar la divisió per 1.0. Si volem calcular la divisió amb cert nombre de decimals hem de fer (a/b).n(digits = x)\n",
      "Per fer arrels quadrades utilitzam sqrt(a)\n",
      "El logaritme per defecte si posam log(a) serà de base e. Si volem utilitzar qualsevol altre logaritme en base x, hem d'utilitzar log(a, x)\n"
     ]
    }
   ],
   "source": [
    "print(\"RESUM ARITMÈTICA BÀSICA\")\n",
    "print(\"Per sumar utilitzam \"+\", per restar el - i per multipilcar el *. \")\n",
    "print(\"Si volem fer una potència utilitzam o bé ^ o bé **.\")\n",
    "print(\"Per dividir se utilitza / i ens donarà el coeficient exacte. Si volem xifres decimals, podem afegir .0 al numerador o denominador, o bé multiplicar la divisió per 1.0. Si volem calcular la divisió amb cert nombre de decimals hem de fer (a/b).n(digits = x)\")\n",
    "print(\"Per fer arrels quadrades utilitzam sqrt(a)\")\n",
    "print(\"El logaritme per defecte si posam log(a) serà de base e. Si volem utilitzar qualsevol altre logaritme en base x, hem d'utilitzar log(a, x)\")"
   ]
  }
 ],
 "metadata": {
  "kernelspec": {
   "display_name": "SageMath 9.0",
   "language": "sage",
   "name": "sagemath"
  },
  "language_info": {
   "codemirror_mode": {
    "name": "ipython",
    "version": 3
   },
   "file_extension": ".py",
   "mimetype": "text/x-python",
   "name": "python",
   "nbconvert_exporter": "python",
   "pygments_lexer": "ipython3",
   "version": "3.7.3"
  }
 },
 "nbformat": 4,
 "nbformat_minor": 2
}
