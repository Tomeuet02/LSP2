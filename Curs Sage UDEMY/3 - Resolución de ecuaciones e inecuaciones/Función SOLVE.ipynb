{
 "cells": [
  {
   "cell_type": "code",
   "execution_count": 2,
   "metadata": {},
   "outputs": [
    {
     "data": {
      "text/plain": [
       "[x == (-17/3)]"
      ]
     },
     "execution_count": 2,
     "metadata": {},
     "output_type": "execute_result"
    }
   ],
   "source": [
    "solve(x+3-2 == -2*(x+8), x)"
   ]
  },
  {
   "cell_type": "code",
   "execution_count": 5,
   "metadata": {},
   "outputs": [
    {
     "data": {
      "text/plain": [
       "[x == -1/2*sqrt(33) + 3/2, x == 1/2*sqrt(33) + 3/2]"
      ]
     },
     "execution_count": 5,
     "metadata": {},
     "output_type": "execute_result"
    }
   ],
   "source": [
    "solve(x^2-3*x == 6, x)"
   ]
  },
  {
   "cell_type": "code",
   "execution_count": 10,
   "metadata": {},
   "outputs": [
    {
     "data": {
      "text/plain": [
       "[x == 0]"
      ]
     },
     "execution_count": 10,
     "metadata": {},
     "output_type": "execute_result"
    }
   ],
   "source": [
    "solve(exp(x) == 1, x)"
   ]
  },
  {
   "cell_type": "code",
   "execution_count": 12,
   "metadata": {},
   "outputs": [
    {
     "data": {
      "text/plain": [
       "[[x < 4]]"
      ]
     },
     "execution_count": 12,
     "metadata": {},
     "output_type": "execute_result"
    }
   ],
   "source": [
    "solve(x-4+2*x < 8, x)"
   ]
  },
  {
   "cell_type": "code",
   "execution_count": 13,
   "metadata": {},
   "outputs": [
    {
     "data": {
      "text/plain": [
       "[[x <= -3], [x >= 3]]"
      ]
     },
     "execution_count": 13,
     "metadata": {},
     "output_type": "execute_result"
    }
   ],
   "source": [
    "solve(x^2-6>=3, x)"
   ]
  },
  {
   "cell_type": "code",
   "execution_count": 14,
   "metadata": {},
   "outputs": [
    {
     "data": {
      "text/plain": [
       "[[x >= -3, x <= 3]]"
      ]
     },
     "execution_count": 14,
     "metadata": {},
     "output_type": "execute_result"
    }
   ],
   "source": [
    "solve(x^2-6<=3, x)"
   ]
  },
  {
   "cell_type": "code",
   "execution_count": 6,
   "metadata": {},
   "outputs": [],
   "source": [
    "sol = solve(x^2-3*x == 6, x)"
   ]
  },
  {
   "cell_type": "code",
   "execution_count": 7,
   "metadata": {},
   "outputs": [
    {
     "data": {
      "text/plain": [
       "x == -1/2*sqrt(33) + 3/2"
      ]
     },
     "execution_count": 7,
     "metadata": {},
     "output_type": "execute_result"
    }
   ],
   "source": [
    "sol[0]"
   ]
  },
  {
   "cell_type": "code",
   "execution_count": 8,
   "metadata": {},
   "outputs": [
    {
     "data": {
      "text/plain": [
       "x == 1/2*sqrt(33) + 3/2"
      ]
     },
     "execution_count": 8,
     "metadata": {},
     "output_type": "execute_result"
    }
   ],
   "source": [
    "sol[1]"
   ]
  },
  {
   "cell_type": "code",
   "execution_count": 9,
   "metadata": {
    "scrolled": true
   },
   "outputs": [
    {
     "data": {
      "text/plain": [
       "1/2*sqrt(33) + 3/2"
      ]
     },
     "execution_count": 9,
     "metadata": {},
     "output_type": "execute_result"
    }
   ],
   "source": [
    "sol[1].rhs() #rhs significa right hand side"
   ]
  },
  {
   "cell_type": "code",
   "execution_count": 16,
   "metadata": {},
   "outputs": [
    {
     "name": "stdout",
     "output_type": "stream",
     "text": [
      "RESUMEN RESOLUCIÓN DE ECUACIONES E INECUACIONES\n",
      "Per resoldre ecuacions o inecuacions utilitzarem la funció solve(eq./ineq., variable). Si una ecuació té solucions múltiples, les separa amb comes. Si una inecuació té solucions múltiples, les separa amb claudators.\n",
      "Podem assignar una variable a les solucions (i.e. sol = solve(...)) i si volem sebre una solució en concret dir sol[posició]. OJO, les posicions comencen al 0, així que la primera posició és la posició 0. Si volem que mos doni la solució però fora la part de 'x = ' hem de posar sol[pos].rhs()\n"
     ]
    }
   ],
   "source": [
    "print(\"RESUMEN RESOLUCIÓN DE ECUACIONES E INECUACIONES\")\n",
    "print(\"Per resoldre ecuacions o inecuacions utilitzarem la funció solve(eq./ineq., variable). Si una ecuació té solucions múltiples, les separa amb comes. Si una inecuació té solucions múltiples, les separa amb claudators.\")\n",
    "print(\"Podem assignar una variable a les solucions (i.e. sol = solve(...)) i si volem sebre una solució en concret dir sol[posició]. OJO, les posicions comencen al 0, així que la primera posició és la posició 0. Si volem que mos doni la solució però fora la part de 'x = ' hem de posar sol[pos].rhs()\")\n",
    "print(\"Si la ecuació no té una solució com a tal, hem d'emprar find_root(eq., a, b) per cercar una arrel de la funció a (a,b)\")"
   ]
  }
 ],
 "metadata": {
  "kernelspec": {
   "display_name": "SageMath 9.0",
   "language": "sage",
   "name": "sagemath"
  },
  "language_info": {
   "codemirror_mode": {
    "name": "ipython",
    "version": 3
   },
   "file_extension": ".py",
   "mimetype": "text/x-python",
   "name": "python",
   "nbconvert_exporter": "python",
   "pygments_lexer": "ipython3",
   "version": "3.7.3"
  }
 },
 "nbformat": 4,
 "nbformat_minor": 2
}
