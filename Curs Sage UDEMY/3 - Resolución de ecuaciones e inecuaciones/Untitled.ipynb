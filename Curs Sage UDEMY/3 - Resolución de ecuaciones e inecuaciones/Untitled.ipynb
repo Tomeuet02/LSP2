{
 "cells": [
  {
   "cell_type": "code",
   "execution_count": 1,
   "metadata": {},
   "outputs": [],
   "source": [
    "y, z, t = var('y', 'z', 't')"
   ]
  },
  {
   "cell_type": "code",
   "execution_count": 4,
   "metadata": {},
   "outputs": [],
   "source": [
    "phi, alpha, beta = var('phi', 'alpha', 'beta')"
   ]
  },
  {
   "cell_type": "code",
   "execution_count": 5,
   "metadata": {},
   "outputs": [
    {
     "data": {
      "text/plain": [
       "[[x == (1/5), y == (-7/5)]]"
      ]
     },
     "execution_count": 5,
     "metadata": {},
     "output_type": "execute_result"
    }
   ],
   "source": [
    "solve([3*x-y==2, -2*x-y==1], x, y)"
   ]
  },
  {
   "cell_type": "code",
   "execution_count": 7,
   "metadata": {},
   "outputs": [
    {
     "data": {
      "text/plain": [
       "[[x == -1/2*r1 - 1/2, y == r1]]"
      ]
     },
     "execution_count": 7,
     "metadata": {},
     "output_type": "execute_result"
    }
   ],
   "source": [
    "solve([4*x+2*y==-2, -2*x-y==1], x, y) #Infinitas soluciones"
   ]
  },
  {
   "cell_type": "code",
   "execution_count": 8,
   "metadata": {},
   "outputs": [
    {
     "data": {
      "text/plain": [
       "[]"
      ]
     },
     "execution_count": 8,
     "metadata": {},
     "output_type": "execute_result"
    }
   ],
   "source": [
    "solve([-2*x-y==0, -2*x-y==1], x, y) #Sin solución"
   ]
  },
  {
   "cell_type": "code",
   "execution_count": 10,
   "metadata": {},
   "outputs": [
    {
     "data": {
      "text/plain": [
       "[[x == (1/3), y == (-4/9), z == (1/9)]]"
      ]
     },
     "execution_count": 10,
     "metadata": {},
     "output_type": "execute_result"
    }
   ],
   "source": [
    "solve([2*x+3*y+5*x==1, 2*x-5*y+z==3, x+y+z==0], x, y, z)"
   ]
  },
  {
   "cell_type": "code",
   "execution_count": 12,
   "metadata": {},
   "outputs": [
    {
     "data": {
      "text/plain": [
       "[[x == y + 4, -1 < y], [-y + 2 < x, x < y + 4, -1 < y]]"
      ]
     },
     "execution_count": 12,
     "metadata": {},
     "output_type": "execute_result"
    }
   ],
   "source": [
    "solve([x+y>2, x-y<=4], x, y)"
   ]
  },
  {
   "cell_type": "code",
   "execution_count": 13,
   "metadata": {},
   "outputs": [
    {
     "name": "stdout",
     "output_type": "stream",
     "text": [
      "RESUM VARIABLES\n",
      "Assignam les variables amb y = var('y'), i NO poden tenir espais en el nom. Poden ser lletres, lletres gregues, xn...\n",
      "Amb restore('y') eliminam la variable\n",
      "Podem resoldre sistemes d'equacions i inequacions amb la funció solve([eq1, eq2, ..., eqn], x1, x2, ..., xn)\n"
     ]
    }
   ],
   "source": [
    "print(\"RESUM VARIABLES\")\n",
    "print(\"Assignam les variables amb y = var('y'), i NO poden tenir espais en el nom. Poden ser lletres, lletres gregues, xn...\")\n",
    "print(\"Amb restore('y') eliminam la variable\")\n",
    "print(\"Podem resoldre sistemes d'equacions i inequacions amb la funció solve([eq1, eq2, ..., eqn], x1, x2, ..., xn)\")"
   ]
  }
 ],
 "metadata": {
  "kernelspec": {
   "display_name": "SageMath 9.0",
   "language": "sage",
   "name": "sagemath"
  },
  "language_info": {
   "codemirror_mode": {
    "name": "ipython",
    "version": 3
   },
   "file_extension": ".py",
   "mimetype": "text/x-python",
   "name": "python",
   "nbconvert_exporter": "python",
   "pygments_lexer": "ipython3",
   "version": "3.7.3"
  }
 },
 "nbformat": 4,
 "nbformat_minor": 2
}
